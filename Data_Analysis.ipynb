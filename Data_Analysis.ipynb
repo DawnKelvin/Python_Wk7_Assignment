{
 "cells": [
  {
   "cell_type": "code",
   "execution_count": 1,
   "id": "f40f3320",
   "metadata": {},
   "outputs": [],
   "source": [
    "# import required libraries\n",
    "\n",
    "import pandas as pd\n",
    "import matplotlib.pyplot as plt\n",
    "\n",
    "# Load the data\n",
    "df = pd.read_csv('Warehouse_and_Retail_Sales.csv')"
   ]
  },
  {
   "cell_type": "markdown",
   "id": "a3ee1556",
   "metadata": {},
   "source": [
    "This data is obtained from data.gov database: https://catalog.data.gov/dataset/warehouse-and-retail-sales. This dataset contains a list of sales and movement data by item and department appended monthly. Update Frequency : Monthly"
   ]
  },
  {
   "cell_type": "code",
   "execution_count": 2,
   "id": "2f8fe399",
   "metadata": {},
   "outputs": [
    {
     "data": {
      "text/html": [
       "<div>\n",
       "<style scoped>\n",
       "    .dataframe tbody tr th:only-of-type {\n",
       "        vertical-align: middle;\n",
       "    }\n",
       "\n",
       "    .dataframe tbody tr th {\n",
       "        vertical-align: top;\n",
       "    }\n",
       "\n",
       "    .dataframe thead th {\n",
       "        text-align: right;\n",
       "    }\n",
       "</style>\n",
       "<table border=\"1\" class=\"dataframe\">\n",
       "  <thead>\n",
       "    <tr style=\"text-align: right;\">\n",
       "      <th></th>\n",
       "      <th>YEAR</th>\n",
       "      <th>MONTH</th>\n",
       "      <th>SUPPLIER</th>\n",
       "      <th>ITEM CODE</th>\n",
       "      <th>ITEM DESCRIPTION</th>\n",
       "      <th>ITEM TYPE</th>\n",
       "      <th>RETAIL SALES</th>\n",
       "      <th>RETAIL TRANSFERS</th>\n",
       "      <th>WAREHOUSE SALES</th>\n",
       "    </tr>\n",
       "  </thead>\n",
       "  <tbody>\n",
       "    <tr>\n",
       "      <th>0</th>\n",
       "      <td>2020</td>\n",
       "      <td>1</td>\n",
       "      <td>REPUBLIC NATIONAL DISTRIBUTING CO</td>\n",
       "      <td>100009</td>\n",
       "      <td>BOOTLEG RED - 750ML</td>\n",
       "      <td>WINE</td>\n",
       "      <td>0.00</td>\n",
       "      <td>0.0</td>\n",
       "      <td>2.0</td>\n",
       "    </tr>\n",
       "    <tr>\n",
       "      <th>1</th>\n",
       "      <td>2020</td>\n",
       "      <td>1</td>\n",
       "      <td>PWSWN INC</td>\n",
       "      <td>100024</td>\n",
       "      <td>MOMENT DE PLAISIR - 750ML</td>\n",
       "      <td>WINE</td>\n",
       "      <td>0.00</td>\n",
       "      <td>1.0</td>\n",
       "      <td>4.0</td>\n",
       "    </tr>\n",
       "    <tr>\n",
       "      <th>2</th>\n",
       "      <td>2020</td>\n",
       "      <td>1</td>\n",
       "      <td>RELIABLE CHURCHILL LLLP</td>\n",
       "      <td>1001</td>\n",
       "      <td>S SMITH ORGANIC PEAR CIDER - 18.7OZ</td>\n",
       "      <td>BEER</td>\n",
       "      <td>0.00</td>\n",
       "      <td>0.0</td>\n",
       "      <td>1.0</td>\n",
       "    </tr>\n",
       "    <tr>\n",
       "      <th>3</th>\n",
       "      <td>2020</td>\n",
       "      <td>1</td>\n",
       "      <td>LANTERNA DISTRIBUTORS INC</td>\n",
       "      <td>100145</td>\n",
       "      <td>SCHLINK HAUS KABINETT - 750ML</td>\n",
       "      <td>WINE</td>\n",
       "      <td>0.00</td>\n",
       "      <td>0.0</td>\n",
       "      <td>1.0</td>\n",
       "    </tr>\n",
       "    <tr>\n",
       "      <th>4</th>\n",
       "      <td>2020</td>\n",
       "      <td>1</td>\n",
       "      <td>DIONYSOS IMPORTS INC</td>\n",
       "      <td>100293</td>\n",
       "      <td>SANTORINI GAVALA WHITE - 750ML</td>\n",
       "      <td>WINE</td>\n",
       "      <td>0.82</td>\n",
       "      <td>0.0</td>\n",
       "      <td>0.0</td>\n",
       "    </tr>\n",
       "    <tr>\n",
       "      <th>5</th>\n",
       "      <td>2020</td>\n",
       "      <td>1</td>\n",
       "      <td>KYSELA PERE ET FILS LTD</td>\n",
       "      <td>100641</td>\n",
       "      <td>CORTENOVA VENETO P/GRIG - 750ML</td>\n",
       "      <td>WINE</td>\n",
       "      <td>2.76</td>\n",
       "      <td>0.0</td>\n",
       "      <td>6.0</td>\n",
       "    </tr>\n",
       "    <tr>\n",
       "      <th>6</th>\n",
       "      <td>2020</td>\n",
       "      <td>1</td>\n",
       "      <td>SANTA MARGHERITA USA INC</td>\n",
       "      <td>100749</td>\n",
       "      <td>SANTA MARGHERITA P/GRIG ALTO - 375ML</td>\n",
       "      <td>WINE</td>\n",
       "      <td>0.08</td>\n",
       "      <td>1.0</td>\n",
       "      <td>1.0</td>\n",
       "    </tr>\n",
       "    <tr>\n",
       "      <th>7</th>\n",
       "      <td>2020</td>\n",
       "      <td>1</td>\n",
       "      <td>BROWN-FORMAN BEVERAGES WORLDWIDE</td>\n",
       "      <td>1008</td>\n",
       "      <td>JACK DANIELS COUNTRY COCKTAIL SOUTHERN PEACH -...</td>\n",
       "      <td>BEER</td>\n",
       "      <td>0.00</td>\n",
       "      <td>0.0</td>\n",
       "      <td>2.0</td>\n",
       "    </tr>\n",
       "    <tr>\n",
       "      <th>8</th>\n",
       "      <td>2020</td>\n",
       "      <td>1</td>\n",
       "      <td>JIM BEAM BRANDS CO</td>\n",
       "      <td>10103</td>\n",
       "      <td>KNOB CREEK BOURBON 9YR - 100P - 375ML</td>\n",
       "      <td>LIQUOR</td>\n",
       "      <td>6.41</td>\n",
       "      <td>4.0</td>\n",
       "      <td>0.0</td>\n",
       "    </tr>\n",
       "    <tr>\n",
       "      <th>9</th>\n",
       "      <td>2020</td>\n",
       "      <td>1</td>\n",
       "      <td>INTERNATIONAL CELLARS LLC</td>\n",
       "      <td>101117</td>\n",
       "      <td>KSARA CAB - 750ML</td>\n",
       "      <td>WINE</td>\n",
       "      <td>0.33</td>\n",
       "      <td>1.0</td>\n",
       "      <td>2.0</td>\n",
       "    </tr>\n",
       "  </tbody>\n",
       "</table>\n",
       "</div>"
      ],
      "text/plain": [
       "   YEAR  MONTH                           SUPPLIER ITEM CODE  \\\n",
       "0  2020      1  REPUBLIC NATIONAL DISTRIBUTING CO    100009   \n",
       "1  2020      1                          PWSWN INC    100024   \n",
       "2  2020      1            RELIABLE CHURCHILL LLLP      1001   \n",
       "3  2020      1          LANTERNA DISTRIBUTORS INC    100145   \n",
       "4  2020      1               DIONYSOS IMPORTS INC    100293   \n",
       "5  2020      1            KYSELA PERE ET FILS LTD    100641   \n",
       "6  2020      1           SANTA MARGHERITA USA INC    100749   \n",
       "7  2020      1   BROWN-FORMAN BEVERAGES WORLDWIDE      1008   \n",
       "8  2020      1                 JIM BEAM BRANDS CO     10103   \n",
       "9  2020      1          INTERNATIONAL CELLARS LLC    101117   \n",
       "\n",
       "                                    ITEM DESCRIPTION ITEM TYPE  RETAIL SALES  \\\n",
       "0                                BOOTLEG RED - 750ML      WINE          0.00   \n",
       "1                          MOMENT DE PLAISIR - 750ML      WINE          0.00   \n",
       "2                S SMITH ORGANIC PEAR CIDER - 18.7OZ      BEER          0.00   \n",
       "3                      SCHLINK HAUS KABINETT - 750ML      WINE          0.00   \n",
       "4                     SANTORINI GAVALA WHITE - 750ML      WINE          0.82   \n",
       "5                    CORTENOVA VENETO P/GRIG - 750ML      WINE          2.76   \n",
       "6               SANTA MARGHERITA P/GRIG ALTO - 375ML      WINE          0.08   \n",
       "7  JACK DANIELS COUNTRY COCKTAIL SOUTHERN PEACH -...      BEER          0.00   \n",
       "8              KNOB CREEK BOURBON 9YR - 100P - 375ML    LIQUOR          6.41   \n",
       "9                                  KSARA CAB - 750ML      WINE          0.33   \n",
       "\n",
       "   RETAIL TRANSFERS  WAREHOUSE SALES  \n",
       "0               0.0              2.0  \n",
       "1               1.0              4.0  \n",
       "2               0.0              1.0  \n",
       "3               0.0              1.0  \n",
       "4               0.0              0.0  \n",
       "5               0.0              6.0  \n",
       "6               1.0              1.0  \n",
       "7               0.0              2.0  \n",
       "8               4.0              0.0  \n",
       "9               1.0              2.0  "
      ]
     },
     "execution_count": 2,
     "metadata": {},
     "output_type": "execute_result"
    }
   ],
   "source": [
    "# show the first 10 rows of the dataset to inspect the data\n",
    "df.head(10)"
   ]
  },
  {
   "cell_type": "code",
   "execution_count": 3,
   "id": "dae3e47c",
   "metadata": {},
   "outputs": [
    {
     "data": {
      "text/plain": [
       "(307645, 9)"
      ]
     },
     "execution_count": 3,
     "metadata": {},
     "output_type": "execute_result"
    }
   ],
   "source": [
    "# check the number of rows and columns in the dataframe\n",
    "df.shape"
   ]
  },
  {
   "cell_type": "code",
   "execution_count": 4,
   "id": "fa0df5b5",
   "metadata": {},
   "outputs": [
    {
     "data": {
      "text/html": [
       "<div>\n",
       "<style scoped>\n",
       "    .dataframe tbody tr th:only-of-type {\n",
       "        vertical-align: middle;\n",
       "    }\n",
       "\n",
       "    .dataframe tbody tr th {\n",
       "        vertical-align: top;\n",
       "    }\n",
       "\n",
       "    .dataframe thead th {\n",
       "        text-align: right;\n",
       "    }\n",
       "</style>\n",
       "<table border=\"1\" class=\"dataframe\">\n",
       "  <thead>\n",
       "    <tr style=\"text-align: right;\">\n",
       "      <th></th>\n",
       "      <th>YEAR</th>\n",
       "      <th>MONTH</th>\n",
       "      <th>SUPPLIER</th>\n",
       "      <th>ITEM CODE</th>\n",
       "      <th>ITEM DESCRIPTION</th>\n",
       "      <th>ITEM TYPE</th>\n",
       "      <th>RETAIL SALES</th>\n",
       "      <th>RETAIL TRANSFERS</th>\n",
       "      <th>WAREHOUSE SALES</th>\n",
       "    </tr>\n",
       "  </thead>\n",
       "  <tbody>\n",
       "    <tr>\n",
       "      <th>0</th>\n",
       "      <td>False</td>\n",
       "      <td>False</td>\n",
       "      <td>False</td>\n",
       "      <td>False</td>\n",
       "      <td>False</td>\n",
       "      <td>False</td>\n",
       "      <td>False</td>\n",
       "      <td>False</td>\n",
       "      <td>False</td>\n",
       "    </tr>\n",
       "    <tr>\n",
       "      <th>1</th>\n",
       "      <td>False</td>\n",
       "      <td>False</td>\n",
       "      <td>False</td>\n",
       "      <td>False</td>\n",
       "      <td>False</td>\n",
       "      <td>False</td>\n",
       "      <td>False</td>\n",
       "      <td>False</td>\n",
       "      <td>False</td>\n",
       "    </tr>\n",
       "    <tr>\n",
       "      <th>2</th>\n",
       "      <td>False</td>\n",
       "      <td>False</td>\n",
       "      <td>False</td>\n",
       "      <td>False</td>\n",
       "      <td>False</td>\n",
       "      <td>False</td>\n",
       "      <td>False</td>\n",
       "      <td>False</td>\n",
       "      <td>False</td>\n",
       "    </tr>\n",
       "    <tr>\n",
       "      <th>3</th>\n",
       "      <td>False</td>\n",
       "      <td>False</td>\n",
       "      <td>False</td>\n",
       "      <td>False</td>\n",
       "      <td>False</td>\n",
       "      <td>False</td>\n",
       "      <td>False</td>\n",
       "      <td>False</td>\n",
       "      <td>False</td>\n",
       "    </tr>\n",
       "    <tr>\n",
       "      <th>4</th>\n",
       "      <td>False</td>\n",
       "      <td>False</td>\n",
       "      <td>False</td>\n",
       "      <td>False</td>\n",
       "      <td>False</td>\n",
       "      <td>False</td>\n",
       "      <td>False</td>\n",
       "      <td>False</td>\n",
       "      <td>False</td>\n",
       "    </tr>\n",
       "    <tr>\n",
       "      <th>...</th>\n",
       "      <td>...</td>\n",
       "      <td>...</td>\n",
       "      <td>...</td>\n",
       "      <td>...</td>\n",
       "      <td>...</td>\n",
       "      <td>...</td>\n",
       "      <td>...</td>\n",
       "      <td>...</td>\n",
       "      <td>...</td>\n",
       "    </tr>\n",
       "    <tr>\n",
       "      <th>307640</th>\n",
       "      <td>False</td>\n",
       "      <td>False</td>\n",
       "      <td>False</td>\n",
       "      <td>False</td>\n",
       "      <td>False</td>\n",
       "      <td>False</td>\n",
       "      <td>False</td>\n",
       "      <td>False</td>\n",
       "      <td>False</td>\n",
       "    </tr>\n",
       "    <tr>\n",
       "      <th>307641</th>\n",
       "      <td>False</td>\n",
       "      <td>False</td>\n",
       "      <td>False</td>\n",
       "      <td>False</td>\n",
       "      <td>False</td>\n",
       "      <td>False</td>\n",
       "      <td>False</td>\n",
       "      <td>False</td>\n",
       "      <td>False</td>\n",
       "    </tr>\n",
       "    <tr>\n",
       "      <th>307642</th>\n",
       "      <td>False</td>\n",
       "      <td>False</td>\n",
       "      <td>False</td>\n",
       "      <td>False</td>\n",
       "      <td>False</td>\n",
       "      <td>False</td>\n",
       "      <td>False</td>\n",
       "      <td>False</td>\n",
       "      <td>False</td>\n",
       "    </tr>\n",
       "    <tr>\n",
       "      <th>307643</th>\n",
       "      <td>False</td>\n",
       "      <td>False</td>\n",
       "      <td>False</td>\n",
       "      <td>False</td>\n",
       "      <td>False</td>\n",
       "      <td>False</td>\n",
       "      <td>False</td>\n",
       "      <td>False</td>\n",
       "      <td>False</td>\n",
       "    </tr>\n",
       "    <tr>\n",
       "      <th>307644</th>\n",
       "      <td>False</td>\n",
       "      <td>False</td>\n",
       "      <td>False</td>\n",
       "      <td>False</td>\n",
       "      <td>False</td>\n",
       "      <td>False</td>\n",
       "      <td>False</td>\n",
       "      <td>False</td>\n",
       "      <td>False</td>\n",
       "    </tr>\n",
       "  </tbody>\n",
       "</table>\n",
       "<p>307645 rows × 9 columns</p>\n",
       "</div>"
      ],
      "text/plain": [
       "         YEAR  MONTH  SUPPLIER  ITEM CODE  ITEM DESCRIPTION  ITEM TYPE  \\\n",
       "0       False  False     False      False             False      False   \n",
       "1       False  False     False      False             False      False   \n",
       "2       False  False     False      False             False      False   \n",
       "3       False  False     False      False             False      False   \n",
       "4       False  False     False      False             False      False   \n",
       "...       ...    ...       ...        ...               ...        ...   \n",
       "307640  False  False     False      False             False      False   \n",
       "307641  False  False     False      False             False      False   \n",
       "307642  False  False     False      False             False      False   \n",
       "307643  False  False     False      False             False      False   \n",
       "307644  False  False     False      False             False      False   \n",
       "\n",
       "        RETAIL SALES  RETAIL TRANSFERS  WAREHOUSE SALES  \n",
       "0              False             False            False  \n",
       "1              False             False            False  \n",
       "2              False             False            False  \n",
       "3              False             False            False  \n",
       "4              False             False            False  \n",
       "...              ...               ...              ...  \n",
       "307640         False             False            False  \n",
       "307641         False             False            False  \n",
       "307642         False             False            False  \n",
       "307643         False             False            False  \n",
       "307644         False             False            False  \n",
       "\n",
       "[307645 rows x 9 columns]"
      ]
     },
     "execution_count": 4,
     "metadata": {},
     "output_type": "execute_result"
    }
   ],
   "source": [
    "# Check for missing values in the df dataframe\n",
    "\n",
    "mv = df.isnull()\n",
    "#show the missing values dataframe\n",
    "mv"
   ]
  },
  {
   "cell_type": "code",
   "execution_count": 5,
   "id": "7cfc8d0d",
   "metadata": {},
   "outputs": [
    {
     "name": "stdout",
     "output_type": "stream",
     "text": [
      "YEAR                  0\n",
      "MONTH                 0\n",
      "SUPPLIER            167\n",
      "ITEM CODE             0\n",
      "ITEM DESCRIPTION      0\n",
      "ITEM TYPE             1\n",
      "RETAIL SALES          3\n",
      "RETAIL TRANSFERS      0\n",
      "WAREHOUSE SALES       0\n",
      "dtype: int64\n"
     ]
    }
   ],
   "source": [
    "# count the number of missing values in the df dataframe\n",
    "print(df.isnull().sum())"
   ]
  },
  {
   "cell_type": "code",
   "execution_count": 6,
   "id": "d416b02e",
   "metadata": {},
   "outputs": [],
   "source": [
    "# drop any empty cells and return it as a new dataframe\n",
    "df2 = df.dropna()"
   ]
  },
  {
   "cell_type": "code",
   "execution_count": 7,
   "id": "c52fcad5",
   "metadata": {},
   "outputs": [
    {
     "data": {
      "text/plain": [
       "(307477, 9)"
      ]
     },
     "execution_count": 7,
     "metadata": {},
     "output_type": "execute_result"
    }
   ],
   "source": [
    "# check the number of rows and columns of the new dataframe\n",
    "df2.shape"
   ]
  },
  {
   "cell_type": "code",
   "execution_count": 8,
   "id": "c1e6425f",
   "metadata": {
    "scrolled": true
   },
   "outputs": [
    {
     "data": {
      "text/plain": [
       "YEAR                  int64\n",
       "MONTH                 int64\n",
       "SUPPLIER             object\n",
       "ITEM CODE            object\n",
       "ITEM DESCRIPTION     object\n",
       "ITEM TYPE            object\n",
       "RETAIL SALES        float64\n",
       "RETAIL TRANSFERS    float64\n",
       "WAREHOUSE SALES     float64\n",
       "dtype: object"
      ]
     },
     "execution_count": 8,
     "metadata": {},
     "output_type": "execute_result"
    }
   ],
   "source": [
    "# A total of 6,168 empty rows were successfully removed \n",
    "# we now check the datatypes for each column\n",
    " \n",
    "df2.dtypes"
   ]
  },
  {
   "cell_type": "code",
   "execution_count": 9,
   "id": "4ba90771",
   "metadata": {},
   "outputs": [],
   "source": [
    "# check for any missing values\n",
    "\n",
    "missing_values = df2.isnull().any().any()"
   ]
  },
  {
   "cell_type": "code",
   "execution_count": 10,
   "id": "f194e460",
   "metadata": {},
   "outputs": [
    {
     "data": {
      "text/plain": [
       "False"
      ]
     },
     "execution_count": 10,
     "metadata": {},
     "output_type": "execute_result"
    }
   ],
   "source": [
    "# show the missing values dataframe\n",
    "\n",
    "missing_values"
   ]
  },
  {
   "cell_type": "code",
   "execution_count": 11,
   "id": "545dc76f",
   "metadata": {},
   "outputs": [
    {
     "data": {
      "text/plain": [
       "()"
      ]
     },
     "execution_count": 11,
     "metadata": {},
     "output_type": "execute_result"
    }
   ],
   "source": [
    "# False means that there is no missing value\n",
    "missing_values.shape\n"
   ]
  },
  {
   "cell_type": "code",
   "execution_count": 12,
   "id": "5ebb780b",
   "metadata": {},
   "outputs": [
    {
     "name": "stdout",
     "output_type": "stream",
     "text": [
      "0         False\n",
      "1         False\n",
      "2         False\n",
      "3         False\n",
      "4         False\n",
      "          ...  \n",
      "307640    False\n",
      "307641    False\n",
      "307642    False\n",
      "307643    False\n",
      "307644    False\n",
      "Length: 307477, dtype: bool\n"
     ]
    }
   ],
   "source": [
    "# check for duplicates\n",
    "print(df2.duplicated()) #Returns True for every row that is a duplicate, otherwise False:"
   ]
  },
  {
   "cell_type": "code",
   "execution_count": 13,
   "id": "5e5d9a36",
   "metadata": {
    "scrolled": true
   },
   "outputs": [
    {
     "name": "stderr",
     "output_type": "stream",
     "text": [
      "C:\\Users\\USER\\AppData\\Local\\Temp\\ipykernel_3640\\446152275.py:2: SettingWithCopyWarning: \n",
      "A value is trying to be set on a copy of a slice from a DataFrame\n",
      "\n",
      "See the caveats in the documentation: https://pandas.pydata.org/pandas-docs/stable/user_guide/indexing.html#returning-a-view-versus-a-copy\n",
      "  df2.drop_duplicates(inplace = True) # removes duplicates in the dataframe but does not return a new dataframe\n"
     ]
    }
   ],
   "source": [
    "# drop any duplicated data\n",
    "df2.drop_duplicates(inplace = True) # removes duplicates in the dataframe but does not return a new dataframe"
   ]
  },
  {
   "cell_type": "code",
   "execution_count": 14,
   "id": "1bac2236",
   "metadata": {},
   "outputs": [
    {
     "data": {
      "text/plain": [
       "(307477, 9)"
      ]
     },
     "execution_count": 14,
     "metadata": {},
     "output_type": "execute_result"
    }
   ],
   "source": [
    "# check the shape of the new dataframe\n",
    "df2.shape\n"
   ]
  },
  {
   "cell_type": "code",
   "execution_count": 15,
   "id": "49f973c2",
   "metadata": {},
   "outputs": [
    {
     "data": {
      "text/html": [
       "<div>\n",
       "<style scoped>\n",
       "    .dataframe tbody tr th:only-of-type {\n",
       "        vertical-align: middle;\n",
       "    }\n",
       "\n",
       "    .dataframe tbody tr th {\n",
       "        vertical-align: top;\n",
       "    }\n",
       "\n",
       "    .dataframe thead th {\n",
       "        text-align: right;\n",
       "    }\n",
       "</style>\n",
       "<table border=\"1\" class=\"dataframe\">\n",
       "  <thead>\n",
       "    <tr style=\"text-align: right;\">\n",
       "      <th></th>\n",
       "      <th>RETAIL SALES</th>\n",
       "      <th>RETAIL TRANSFERS</th>\n",
       "      <th>WAREHOUSE SALES</th>\n",
       "    </tr>\n",
       "  </thead>\n",
       "  <tbody>\n",
       "    <tr>\n",
       "      <th>count</th>\n",
       "      <td>307477.000000</td>\n",
       "      <td>307477.000000</td>\n",
       "      <td>307477.000000</td>\n",
       "    </tr>\n",
       "    <tr>\n",
       "      <th>mean</th>\n",
       "      <td>7.003644</td>\n",
       "      <td>6.938177</td>\n",
       "      <td>25.375561</td>\n",
       "    </tr>\n",
       "    <tr>\n",
       "      <th>std</th>\n",
       "      <td>30.387012</td>\n",
       "      <td>30.244239</td>\n",
       "      <td>249.500572</td>\n",
       "    </tr>\n",
       "    <tr>\n",
       "      <th>min</th>\n",
       "      <td>-6.490000</td>\n",
       "      <td>-38.490000</td>\n",
       "      <td>-4996.000000</td>\n",
       "    </tr>\n",
       "    <tr>\n",
       "      <th>25%</th>\n",
       "      <td>0.000000</td>\n",
       "      <td>0.000000</td>\n",
       "      <td>0.000000</td>\n",
       "    </tr>\n",
       "    <tr>\n",
       "      <th>50%</th>\n",
       "      <td>0.320000</td>\n",
       "      <td>0.000000</td>\n",
       "      <td>1.000000</td>\n",
       "    </tr>\n",
       "    <tr>\n",
       "      <th>75%</th>\n",
       "      <td>3.260000</td>\n",
       "      <td>3.000000</td>\n",
       "      <td>5.000000</td>\n",
       "    </tr>\n",
       "    <tr>\n",
       "      <th>max</th>\n",
       "      <td>1816.490000</td>\n",
       "      <td>1990.830000</td>\n",
       "      <td>18317.000000</td>\n",
       "    </tr>\n",
       "  </tbody>\n",
       "</table>\n",
       "</div>"
      ],
      "text/plain": [
       "        RETAIL SALES  RETAIL TRANSFERS  WAREHOUSE SALES\n",
       "count  307477.000000     307477.000000    307477.000000\n",
       "mean        7.003644          6.938177        25.375561\n",
       "std        30.387012         30.244239       249.500572\n",
       "min        -6.490000        -38.490000     -4996.000000\n",
       "25%         0.000000          0.000000         0.000000\n",
       "50%         0.320000          0.000000         1.000000\n",
       "75%         3.260000          3.000000         5.000000\n",
       "max      1816.490000       1990.830000     18317.000000"
      ]
     },
     "execution_count": 15,
     "metadata": {},
     "output_type": "execute_result"
    }
   ],
   "source": [
    "# Compute the basic statistics: Mean, Median, Standard deviation, variance\n",
    "\n",
    "df2.describe(include = float) # To make sure only numeric values are included\n",
    " "
   ]
  },
  {
   "cell_type": "code",
   "execution_count": 16,
   "id": "7760c8a2",
   "metadata": {},
   "outputs": [
    {
     "name": "stdout",
     "output_type": "stream",
     "text": [
      "<class 'pandas.core.frame.DataFrame'>\n",
      "Index: 307477 entries, 0 to 307644\n",
      "Data columns (total 9 columns):\n",
      " #   Column            Non-Null Count   Dtype  \n",
      "---  ------            --------------   -----  \n",
      " 0   YEAR              307477 non-null  int64  \n",
      " 1   MONTH             307477 non-null  int64  \n",
      " 2   SUPPLIER          307477 non-null  object \n",
      " 3   ITEM CODE         307477 non-null  object \n",
      " 4   ITEM DESCRIPTION  307477 non-null  object \n",
      " 5   ITEM TYPE         307477 non-null  object \n",
      " 6   RETAIL SALES      307477 non-null  float64\n",
      " 7   RETAIL TRANSFERS  307477 non-null  float64\n",
      " 8   WAREHOUSE SALES   307477 non-null  float64\n",
      "dtypes: float64(3), int64(2), object(4)\n",
      "memory usage: 23.5+ MB\n"
     ]
    }
   ],
   "source": [
    "df2.info()"
   ]
  },
  {
   "cell_type": "code",
   "execution_count": 17,
   "id": "a16849d1",
   "metadata": {},
   "outputs": [
    {
     "name": "stdout",
     "output_type": "stream",
     "text": [
      "             RETAIL SALES                                             \\\n",
      "                    count       mean        std   min   50%      max   \n",
      "ITEM TYPE                                                              \n",
      "BEER              42413.0  13.538786  57.506940 -0.13  0.00  1494.00   \n",
      "DUNNAGE              72.0   0.000000   0.000000  0.00  0.00     0.00   \n",
      "KEGS              10146.0   0.000000   0.000000  0.00  0.00     0.00   \n",
      "LIQUOR            64910.0  12.366221  39.344272 -2.47  2.16  1816.49   \n",
      "NON-ALCOHOL        1899.0  14.297162  26.933714 -0.08  5.24   329.27   \n",
      "REF                  79.0   8.400380   8.907923 -0.08  3.80    36.00   \n",
      "STR_SUPPLIES        318.0   7.027987  25.358203  0.00  0.10   368.64   \n",
      "WINE             187640.0   3.978355  13.772911 -6.49  0.08   813.84   \n",
      "\n",
      "             RETAIL TRANSFERS                                              \\\n",
      "                        count       mean        std    min   50%      max   \n",
      "ITEM TYPE                                                                   \n",
      "BEER                  42413.0  13.361799  56.757857 -23.00   0.0  1462.00   \n",
      "DUNNAGE                  72.0   0.000000   0.000000   0.00   0.0     0.00   \n",
      "KEGS                  10146.0  -0.000099   0.009928  -1.00   0.0     0.00   \n",
      "LIQUOR                64910.0  12.243656  39.341262 -38.49   1.0  1990.83   \n",
      "NON-ALCOHOL            1899.0  14.042328  27.128881  -2.00   5.0   308.92   \n",
      "REF                      79.0   4.923038   9.409718  -0.08   0.0    49.00   \n",
      "STR_SUPPLIES            318.0  32.099560  45.173980   0.00  18.0   428.00   \n",
      "WINE                 187640.0   3.915040  13.857081  -8.67   0.0   841.00   \n",
      "\n",
      "             WAREHOUSE SALES                                            \\\n",
      "                       count         mean          std      min    50%   \n",
      "ITEM TYPE                                                                \n",
      "BEER                 42413.0   153.897072   648.608190  -229.33   10.0   \n",
      "DUNNAGE                 72.0 -1684.819444  1647.863921 -4996.00 -952.5   \n",
      "KEGS                 10146.0    11.672679    41.603370    -6.00    2.0   \n",
      "LIQUOR               64910.0     1.462121     9.278896   -18.50    0.0   \n",
      "NON-ALCOHOL           1899.0    13.770190    37.525179    -9.67    1.0   \n",
      "REF                     79.0     0.000000     0.000000     0.00    0.0   \n",
      "STR_SUPPLIES           318.0     0.000000     0.000000     0.00    0.0   \n",
      "WINE                187640.0     6.165982    17.820113   -19.00    2.0   \n",
      "\n",
      "                       \n",
      "                  max  \n",
      "ITEM TYPE              \n",
      "BEER          18317.0  \n",
      "DUNNAGE        -165.0  \n",
      "KEGS            604.0  \n",
      "LIQUOR          438.0  \n",
      "NON-ALCOHOL     297.0  \n",
      "REF               0.0  \n",
      "STR_SUPPLIES      0.0  \n",
      "WINE            662.0  \n"
     ]
    }
   ],
   "source": [
    "# group the data using item type column and print the mean, standard deviation, minimum, maximum and 50% percentile using describe method\n",
    "item_group = df2.groupby('ITEM TYPE')\n",
    "print(item_group.describe(percentiles = [.50], include = float))"
   ]
  },
  {
   "cell_type": "code",
   "execution_count": 18,
   "id": "bc8a3bd2",
   "metadata": {},
   "outputs": [
    {
     "name": "stdout",
     "output_type": "stream",
     "text": [
      "        YEAR  MONTH                           SUPPLIER ITEM CODE  \\\n",
      "0       2020      1  REPUBLIC NATIONAL DISTRIBUTING CO    100009   \n",
      "1       2020      1                          PWSWN INC    100024   \n",
      "2       2020      1            RELIABLE CHURCHILL LLLP      1001   \n",
      "3       2020      1          LANTERNA DISTRIBUTORS INC    100145   \n",
      "4       2020      1               DIONYSOS IMPORTS INC    100293   \n",
      "...      ...    ...                                ...       ...   \n",
      "307640  2020      9                           DOPS INC     97896   \n",
      "307641  2020      9                 ANHEUSER BUSCH INC     97918   \n",
      "307642  2020      9                       HEINEKEN USA     97942   \n",
      "307643  2020      9            RELIABLE CHURCHILL LLLP     97950   \n",
      "307644  2020      9            RELIABLE CHURCHILL LLLP     97969   \n",
      "\n",
      "                                   ITEM DESCRIPTION ITEM TYPE  RETAIL SALES  \\\n",
      "0                               BOOTLEG RED - 750ML      WINE          0.00   \n",
      "1                         MOMENT DE PLAISIR - 750ML      WINE          0.00   \n",
      "2               S SMITH ORGANIC PEAR CIDER - 18.7OZ      BEER          0.00   \n",
      "3                     SCHLINK HAUS KABINETT - 750ML      WINE          0.00   \n",
      "4                    SANTORINI GAVALA WHITE - 750ML      WINE          0.82   \n",
      "...                                             ...       ...           ...   \n",
      "307640  ST PETERS ORGANIC ENG ALE NR 12/CS - 16.9OZ      BEER          0.00   \n",
      "307641               STELLA ARTOIS 2/12 NR - 11.2OZ      BEER        372.45   \n",
      "307642                       TECATE 4/6 LNNR - 12OZ      BEER          7.79   \n",
      "307643     S SMITH WINTER WELCOME NR 12/CS - 18.7OZ      BEER          0.00   \n",
      "307644          S SMITH WINTER WELCOME 4/6NR - 12OZ      BEER          0.00   \n",
      "\n",
      "        RETAIL TRANSFERS  WAREHOUSE SALES  \n",
      "0                    0.0             2.00  \n",
      "1                    1.0             4.00  \n",
      "2                    0.0             1.00  \n",
      "3                    0.0             1.00  \n",
      "4                    0.0             0.00  \n",
      "...                  ...              ...  \n",
      "307640               0.0             1.00  \n",
      "307641             315.0          3586.88  \n",
      "307642               0.0             4.00  \n",
      "307643               0.0             2.00  \n",
      "307644               0.0             1.00  \n",
      "\n",
      "[307477 rows x 9 columns]\n"
     ]
    }
   ],
   "source": [
    "print(df2)"
   ]
  },
  {
   "cell_type": "code",
   "execution_count": 19,
   "id": "16380ab9",
   "metadata": {},
   "outputs": [
    {
     "data": {
      "text/plain": [
       "YEAR  ITEM TYPE   \n",
       "2017  BEER            14.347818\n",
       "      DUNNAGE          0.000000\n",
       "      KEGS             0.000000\n",
       "      LIQUOR          12.098313\n",
       "      NON-ALCOHOL     15.719073\n",
       "      REF              9.778621\n",
       "      STR_SUPPLIES    11.012955\n",
       "      WINE             4.217173\n",
       "2018  BEER            10.213457\n",
       "      DUNNAGE          0.000000\n",
       "      KEGS             0.000000\n",
       "      LIQUOR           9.649224\n",
       "      NON-ALCOHOL     10.300600\n",
       "      REF              8.147500\n",
       "      STR_SUPPLIES     4.985714\n",
       "      WINE             3.699438\n",
       "2019  BEER            13.265260\n",
       "      DUNNAGE          0.000000\n",
       "      KEGS             0.000000\n",
       "      LIQUOR          12.512349\n",
       "      NON-ALCOHOL     13.632851\n",
       "      REF              7.028378\n",
       "      STR_SUPPLIES     6.121745\n",
       "      WINE             3.857944\n",
       "2020  BEER            14.548135\n",
       "      DUNNAGE          0.000000\n",
       "      KEGS             0.000000\n",
       "      LIQUOR          14.175323\n",
       "      NON-ALCOHOL     15.720776\n",
       "      REF             10.964000\n",
       "      STR_SUPPLIES     4.148667\n",
       "      WINE             3.993773\n",
       "Name: RETAIL SALES, dtype: float64"
      ]
     },
     "execution_count": 19,
     "metadata": {},
     "output_type": "execute_result"
    }
   ],
   "source": [
    "# group the data using item type and year column and print the mean of retail sales, retail transfers and warehouse sales\n",
    "df2.groupby(['YEAR','ITEM TYPE'])['RETAIL SALES'].mean()\n",
    "\n"
   ]
  },
  {
   "cell_type": "code",
   "execution_count": 20,
   "id": "779ab934",
   "metadata": {},
   "outputs": [
    {
     "data": {
      "text/plain": [
       "YEAR  ITEM TYPE   \n",
       "2017  BEER            14.170217\n",
       "      DUNNAGE          0.000000\n",
       "      KEGS            -0.000310\n",
       "      LIQUOR          11.885298\n",
       "      NON-ALCOHOL     15.183690\n",
       "      REF              4.790345\n",
       "      STR_SUPPLIES    35.951136\n",
       "      WINE             4.127947\n",
       "2018  BEER            11.106134\n",
       "      DUNNAGE          0.000000\n",
       "      KEGS             0.000000\n",
       "      LIQUOR           9.241211\n",
       "      NON-ALCOHOL     11.007867\n",
       "      REF              4.125000\n",
       "      STR_SUPPLIES    28.140952\n",
       "      WINE             3.627246\n",
       "2019  BEER            13.151675\n",
       "      DUNNAGE          0.000000\n",
       "      KEGS             0.000000\n",
       "      LIQUOR          12.512934\n",
       "      NON-ALCOHOL     13.499094\n",
       "      REF              4.864865\n",
       "      STR_SUPPLIES    32.798658\n",
       "      WINE             3.826471\n",
       "2020  BEER            13.651585\n",
       "      DUNNAGE          0.000000\n",
       "      KEGS             0.000000\n",
       "      LIQUOR          14.058783\n",
       "      NON-ALCOHOL     15.136236\n",
       "      REF              7.400000\n",
       "      STR_SUPPLIES    26.100000\n",
       "      WINE             3.894630\n",
       "Name: RETAIL TRANSFERS, dtype: float64"
      ]
     },
     "execution_count": 20,
     "metadata": {},
     "output_type": "execute_result"
    }
   ],
   "source": [
    "df2.groupby(['YEAR','ITEM TYPE'])['RETAIL TRANSFERS'].mean()"
   ]
  },
  {
   "cell_type": "code",
   "execution_count": 21,
   "id": "5cd5e11b",
   "metadata": {},
   "outputs": [
    {
     "data": {
      "text/plain": [
       "YEAR  ITEM TYPE   \n",
       "2017  BEER             160.029155\n",
       "      DUNNAGE        -1939.428571\n",
       "      KEGS              12.089585\n",
       "      LIQUOR             1.242235\n",
       "      NON-ALCOHOL       15.604516\n",
       "      REF                0.000000\n",
       "      STR_SUPPLIES       0.000000\n",
       "      WINE               5.700780\n",
       "2018  BEER             123.355425\n",
       "      DUNNAGE        -1725.166667\n",
       "      KEGS              11.540094\n",
       "      LIQUOR             1.116226\n",
       "      NON-ALCOHOL       13.281400\n",
       "      REF                0.000000\n",
       "      STR_SUPPLIES       0.000000\n",
       "      WINE               5.372595\n",
       "2019  BEER             149.648087\n",
       "      DUNNAGE        -1739.121212\n",
       "      KEGS              11.836790\n",
       "      LIQUOR             1.733850\n",
       "      NON-ALCOHOL       13.406530\n",
       "      REF                0.000000\n",
       "      STR_SUPPLIES       0.000000\n",
       "      WINE               6.328571\n",
       "2020  BEER             170.504341\n",
       "      DUNNAGE        -1069.750000\n",
       "      KEGS              10.053600\n",
       "      LIQUOR             1.344593\n",
       "      NON-ALCOHOL       12.312155\n",
       "      REF                0.000000\n",
       "      STR_SUPPLIES       0.000000\n",
       "      WINE               7.116724\n",
       "Name: WAREHOUSE SALES, dtype: float64"
      ]
     },
     "execution_count": 21,
     "metadata": {},
     "output_type": "execute_result"
    }
   ],
   "source": [
    "df2.groupby(['YEAR','ITEM TYPE'])['WAREHOUSE SALES'].mean()"
   ]
  },
  {
   "cell_type": "code",
   "execution_count": null,
   "id": "cd58ac79",
   "metadata": {},
   "outputs": [],
   "source": [
    "import matplotlib.pyplot as plt\n",
    "\n",
    "plt.bar (df2['YEAR'], df2['WAREHOUSE SALES'].sum())"
   ]
  },
  {
   "cell_type": "code",
   "execution_count": null,
   "id": "3f2affbb",
   "metadata": {},
   "outputs": [],
   "source": [
    "# scatter plots\n",
    "\n",
    "plt.scatter(df2['YEAR'],df2['RETAIL SALES'], marker = 'x', color = 'b')\n",
    "plt.scatter(df2['YEAR'],df2['RETAIL TRANSFERS'], marker = 'v', color = 'r')\n",
    "plt.scatter(df2['YEAR'],df2['WAREHOUSE SALES'], marker = 'o', color = 'm')\n",
    "plt.title('Scatter Plot')\n",
    "plt.show()"
   ]
  },
  {
   "cell_type": "code",
   "execution_count": null,
   "id": "0daeb958",
   "metadata": {},
   "outputs": [],
   "source": [
    "# line graph\n",
    "\n",
    "plt.plot(df2['YEAR'], df2['RETAIL SALES'].sum())"
   ]
  },
  {
   "cell_type": "code",
   "execution_count": null,
   "id": "92610680",
   "metadata": {},
   "outputs": [],
   "source": []
  }
 ],
 "metadata": {
  "kernelspec": {
   "display_name": "Python 3 (ipykernel)",
   "language": "python",
   "name": "python3"
  },
  "language_info": {
   "codemirror_mode": {
    "name": "ipython",
    "version": 3
   },
   "file_extension": ".py",
   "mimetype": "text/x-python",
   "name": "python",
   "nbconvert_exporter": "python",
   "pygments_lexer": "ipython3",
   "version": "3.11.5"
  }
 },
 "nbformat": 4,
 "nbformat_minor": 5
}
